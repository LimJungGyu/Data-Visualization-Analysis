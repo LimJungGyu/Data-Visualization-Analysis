{
  "nbformat": 4,
  "nbformat_minor": 0,
  "metadata": {
    "colab": {
      "name": "03-Numpy_배열구조다루기.ipynb",
      "provenance": [],
      "collapsed_sections": []
    },
    "kernelspec": {
      "name": "python3",
      "display_name": "Python 3"
    },
    "language_info": {
      "name": "python"
    }
  },
  "cells": [
    {
      "cell_type": "markdown",
      "metadata": {
        "id": "jgFAOz-Tw1VI"
      },
      "source": [
        "# 03. 넘파이: 배열구조 다루기\n",
        "---\n",
        "* 날짜:\n",
        "* 이름:\n"
      ]
    },
    {
      "cell_type": "markdown",
      "source": [
        "Numpy(Numerical Python)는 고성능 과학 계산을 위한 파이썬 패키지로 강렬한 N차원의 배열(array)을 제공합니다. 이 배열은 범용적인 데이터 처리에 사용 가능한 다차원 컨테이너라 할 수 있으며 파이썬의 list와 비슷하지만 더 빠르고 효율적으로 메모리를 관리합니다. 배열에 대한 여러가지 연산 등 처리를 제공하며 데이터과학의 핵심이라 할 수 있습니다.\n",
        "\n",
        "\n",
        "\n",
        "\n",
        "**참고사이트**\n",
        ">  * [NumPy](https://numpy.org/)\n",
        ">  * [NumPy Illustrated](https://www.mybluelinux.com/numpy-illustrated-the-visual-guide-to-numpy/\n",
        ")\n",
        "> \n",
        "\n",
        "```\n",
        "import numpy as np\n",
        "```\n",
        "\n"
      ],
      "metadata": {
        "id": "lEVB_S0mSo4R"
      }
    },
    {
      "cell_type": "code",
      "source": [
        "import numpy as np"
      ],
      "metadata": {
        "id": "BKQUQTUuXsVu"
      },
      "execution_count": 1,
      "outputs": []
    },
    {
      "cell_type": "markdown",
      "metadata": {
        "id": "roC8A6Ro6THT"
      },
      "source": [
        "## 개념정리\n",
        "---\n",
        "\n"
      ]
    },
    {
      "cell_type": "markdown",
      "metadata": {
        "id": "AUIqJxqPQXs5"
      },
      "source": [
        "---\n",
        "### **(1) 배열 shape 변경**\n",
        "---\n",
        "\n",
        "\n"
      ]
    },
    {
      "cell_type": "markdown",
      "source": [
        "#### **1. `T` 전치 (transopose)**\n",
        "\n",
        "\n",
        "<p align='center'>\n",
        "<img src=https://www.mybluelinux.com/img/post/posts/0123/NumPy-Illustrated-30.webp width=750>\n",
        "</p>\n",
        "\n",
        "```\n",
        "배열2 = 배열1.T\n",
        "```\n",
        "\n",
        "\n",
        "\n",
        "\n",
        "\n",
        "\n"
      ],
      "metadata": {
        "id": "64VHQHeBQXtD"
      }
    },
    {
      "cell_type": "code",
      "metadata": {
        "id": "17A95DExQXtE",
        "colab": {
          "base_uri": "https://localhost:8080/"
        },
        "outputId": "8c298a73-41e9-494f-b9dd-aa5cad1123cf"
      },
      "source": [
        "a = np.arange(1,7).reshape(2,3)\n",
        "print(a, a.shape)\n",
        "a_t = a.T\n",
        "print(a_t, a_t.shape)\n",
        "a_t2 = np.transpose(a)\n",
        "print(a_t2, a_t2.shape)"
      ],
      "execution_count": 6,
      "outputs": [
        {
          "output_type": "stream",
          "name": "stdout",
          "text": [
            "[[1 2 3]\n",
            " [4 5 6]] (2, 3)\n",
            "[[1 4]\n",
            " [2 5]\n",
            " [3 6]] (3, 2)\n",
            "[[1 4]\n",
            " [2 5]\n",
            " [3 6]] (3, 2)\n"
          ]
        }
      ]
    },
    {
      "cell_type": "code",
      "source": [
        "#b\n",
        "a = np.arange(1,4).reshape(1,3)\n",
        "print(a, a.shape)\n",
        "a_t = a.T\n",
        "print(a_t, a_t.shape)\n",
        "a_t2 = np.transpose(a)\n",
        "print(a_t2, a_t2.shape)"
      ],
      "metadata": {
        "id": "TPj0Olu5cWqO",
        "colab": {
          "base_uri": "https://localhost:8080/"
        },
        "outputId": "ebdfc872-f90b-40d7-cfec-03753a191f81"
      },
      "execution_count": 7,
      "outputs": [
        {
          "output_type": "stream",
          "name": "stdout",
          "text": [
            "[[1 2 3]] (1, 3)\n",
            "[[1]\n",
            " [2]\n",
            " [3]] (3, 1)\n",
            "[[1]\n",
            " [2]\n",
            " [3]] (3, 1)\n"
          ]
        }
      ]
    },
    {
      "cell_type": "code",
      "source": [
        "#c\n",
        "a = np.arange(1,4)\n",
        "print(a, a.shape)\n",
        "a_t = a.T\n",
        "print(a_t, a_t.shape)\n",
        "a_t2 = np.transpose(a)\n",
        "print(a_t2, a_t2.shape)"
      ],
      "metadata": {
        "id": "ll1TvZ2OcWuu",
        "colab": {
          "base_uri": "https://localhost:8080/"
        },
        "outputId": "4368fc9a-2b33-4fc1-f84a-d1c5b46ec54d"
      },
      "execution_count": 8,
      "outputs": [
        {
          "output_type": "stream",
          "name": "stdout",
          "text": [
            "[1 2 3] (3,)\n",
            "[1 2 3] (3,)\n",
            "[1 2 3] (3,)\n"
          ]
        }
      ]
    },
    {
      "cell_type": "markdown",
      "source": [
        "#### **2. `swap()`**\n",
        "\n",
        "<p align='center'>\n",
        "<img src=https://www.mybluelinux.com/img/post/posts/0123/NumPy-Illustrated-58.webp width=650>\n",
        "</p>\n",
        "\n",
        "```\n",
        "배열2 = 배열1.swapaxes(축1, 축2)\n",
        "```\n",
        "\n",
        "\n",
        "\n",
        "\n",
        "\n"
      ],
      "metadata": {
        "id": "YGzTiuRXjAJ8"
      }
    },
    {
      "cell_type": "code",
      "metadata": {
        "id": "Rv2ZIBC8jAJ_",
        "colab": {
          "base_uri": "https://localhost:8080/"
        },
        "outputId": "6e4ab77b-bb5d-48af-c8d7-0c24d0692388"
      },
      "source": [
        "a = np.arange(1,25).reshape(2,4,3)\n",
        "print(a, a.shape)\n",
        "a = np.swapaxes(a, 0,1)\n",
        "print(a, a.shape)"
      ],
      "execution_count": 10,
      "outputs": [
        {
          "output_type": "stream",
          "name": "stdout",
          "text": [
            "[[[ 1  2  3]\n",
            "  [ 4  5  6]\n",
            "  [ 7  8  9]\n",
            "  [10 11 12]]\n",
            "\n",
            " [[13 14 15]\n",
            "  [16 17 18]\n",
            "  [19 20 21]\n",
            "  [22 23 24]]] (2, 4, 3)\n",
            "[[[ 1  2  3]\n",
            "  [13 14 15]]\n",
            "\n",
            " [[ 4  5  6]\n",
            "  [16 17 18]]\n",
            "\n",
            " [[ 7  8  9]\n",
            "  [19 20 21]]\n",
            "\n",
            " [[10 11 12]\n",
            "  [22 23 24]]] (4, 2, 3)\n"
          ]
        }
      ]
    },
    {
      "cell_type": "code",
      "source": [
        "a = np.arange(1,25).reshape(2,4,3)\n",
        "print(a, a.shape)\n",
        "a = np.swapaxes(a, 1,2)\n",
        "print(a, a.shape)"
      ],
      "metadata": {
        "id": "FPW0acGEcVfu",
        "colab": {
          "base_uri": "https://localhost:8080/"
        },
        "outputId": "838c0eb0-c795-4866-c7da-7f7c171a8df1"
      },
      "execution_count": 11,
      "outputs": [
        {
          "output_type": "stream",
          "name": "stdout",
          "text": [
            "[[[ 1  2  3]\n",
            "  [ 4  5  6]\n",
            "  [ 7  8  9]\n",
            "  [10 11 12]]\n",
            "\n",
            " [[13 14 15]\n",
            "  [16 17 18]\n",
            "  [19 20 21]\n",
            "  [22 23 24]]] (2, 4, 3)\n",
            "[[[ 1  4  7 10]\n",
            "  [ 2  5  8 11]\n",
            "  [ 3  6  9 12]]\n",
            "\n",
            " [[13 16 19 22]\n",
            "  [14 17 20 23]\n",
            "  [15 18 21 24]]] (2, 3, 4)\n"
          ]
        }
      ]
    },
    {
      "cell_type": "code",
      "source": [
        "a = np.arange(1,25).reshape(2,4,3)\n",
        "print(a, a.shape)\n",
        "a = np.swapaxes(a, 0,2)\n",
        "print(a, a.shape)"
      ],
      "metadata": {
        "id": "OPcJxEGWcVt1",
        "colab": {
          "base_uri": "https://localhost:8080/"
        },
        "outputId": "8ccd84e8-111f-457b-c2d5-0f18922c4a63"
      },
      "execution_count": 13,
      "outputs": [
        {
          "output_type": "stream",
          "name": "stdout",
          "text": [
            "[[[ 1  2  3]\n",
            "  [ 4  5  6]\n",
            "  [ 7  8  9]\n",
            "  [10 11 12]]\n",
            "\n",
            " [[13 14 15]\n",
            "  [16 17 18]\n",
            "  [19 20 21]\n",
            "  [22 23 24]]] (2, 4, 3)\n",
            "[[[ 1 13]\n",
            "  [ 4 16]\n",
            "  [ 7 19]\n",
            "  [10 22]]\n",
            "\n",
            " [[ 2 14]\n",
            "  [ 5 17]\n",
            "  [ 8 20]\n",
            "  [11 23]]\n",
            "\n",
            " [[ 3 15]\n",
            "  [ 6 18]\n",
            "  [ 9 21]\n",
            "  [12 24]]] (3, 4, 2)\n"
          ]
        }
      ]
    },
    {
      "cell_type": "markdown",
      "source": [
        "#### **3. `reshape()`**\n",
        "\n",
        "\n",
        "```\n",
        "배열2 = 배열1.reshape(shape)\n",
        "```\n",
        "\n",
        "```\n",
        "a =  np.zeros((2,3,5))\n",
        "print(a, a.shape)\n",
        "a_reshape = a.reshape((3,2,5))\n",
        "print(a_reshape, a_reshape.shape)\n",
        "```\n",
        "\n",
        "\n"
      ],
      "metadata": {
        "id": "yXNgDdJdQqbw"
      }
    },
    {
      "cell_type": "code",
      "metadata": {
        "id": "FNx2WjERQqbz",
        "colab": {
          "base_uri": "https://localhost:8080/"
        },
        "outputId": "9178d584-e4c1-48b1-c2d4-b7ec2925f66f"
      },
      "source": [
        "a = np.arange(30).reshape(2,3,5)\n",
        "print(a, a.shape)\n",
        "a_reshape = a.reshape((3,2,5))\n",
        "a_swap = np.swapaxes(a, 0,1)\n",
        "print(a_reshape, a_reshape.shape)\n",
        "print(a_swap, a_swap.shape)"
      ],
      "execution_count": 21,
      "outputs": [
        {
          "output_type": "stream",
          "name": "stdout",
          "text": [
            "[[[ 0  1  2  3  4]\n",
            "  [ 5  6  7  8  9]\n",
            "  [10 11 12 13 14]]\n",
            "\n",
            " [[15 16 17 18 19]\n",
            "  [20 21 22 23 24]\n",
            "  [25 26 27 28 29]]] (2, 3, 5)\n",
            "[[[ 0  1  2  3  4]\n",
            "  [ 5  6  7  8  9]]\n",
            "\n",
            " [[10 11 12 13 14]\n",
            "  [15 16 17 18 19]]\n",
            "\n",
            " [[20 21 22 23 24]\n",
            "  [25 26 27 28 29]]] (3, 2, 5)\n",
            "[[[ 0  1  2  3  4]\n",
            "  [15 16 17 18 19]]\n",
            "\n",
            " [[ 5  6  7  8  9]\n",
            "  [20 21 22 23 24]]\n",
            "\n",
            " [[10 11 12 13 14]\n",
            "  [25 26 27 28 29]]] (3, 2, 5)\n"
          ]
        }
      ]
    },
    {
      "cell_type": "markdown",
      "source": [
        "#### **4. `resize()`**\n",
        "\n",
        "`resize()` 함수는 shape 크기를 증가시킬수도 있고 감소 시킬수도 있습니다. 다만 증가시킬 때는 빈 공간을 0으로 채우고 감소할 때는 사이즈에 포함되지 않는 값은 삭제됩니다.\n",
        "\n",
        "\n",
        "```\n",
        "배열1.resize(shape)\n",
        "```\n",
        "\n",
        "```\n",
        "a =  np.arange(1,16)\n",
        "print(a, a.shape)\n",
        "a.resize((3,5))\n",
        "print(a, a.shape)\n",
        "a.resize((3,8))\n",
        "print(a, a.shape)\n",
        "a.resize((3,2))\n",
        "print(a, a.shape)\n",
        "```\n",
        "\n"
      ],
      "metadata": {
        "id": "kX31dzQdmPQJ"
      }
    },
    {
      "cell_type": "code",
      "source": [
        "a =  np.arange(1,16)\n",
        "print(a, a.shape)\n",
        "a.resize((3,5))\n",
        "print(a, a.shape)\n",
        "a.resize((3,8))\n",
        "print(a, a.shape)\n",
        "a.resize((3,2))\n",
        "print(a, a.shape)"
      ],
      "metadata": {
        "id": "v2k4TT7dWWuF",
        "colab": {
          "base_uri": "https://localhost:8080/"
        },
        "outputId": "0280120e-5a24-4eb7-d3b5-1a522035c4f6"
      },
      "execution_count": 39,
      "outputs": [
        {
          "output_type": "stream",
          "name": "stdout",
          "text": [
            "[ 1  2  3  4  5  6  7  8  9 10 11 12 13 14 15] (15,)\n",
            "[[ 1  2  3  4  5]\n",
            " [ 6  7  8  9 10]\n",
            " [11 12 13 14 15]] (3, 5)\n",
            "[[ 1  2  3  4  5  6  7  8]\n",
            " [ 9 10 11 12 13 14 15  0]\n",
            " [ 0  0  0  0  0  0  0  0]] (3, 8)\n",
            "[[1 2]\n",
            " [3 4]\n",
            " [5 6]] (3, 2)\n"
          ]
        }
      ]
    },
    {
      "cell_type": "markdown",
      "metadata": {
        "id": "TNQ_kHOkW57G"
      },
      "source": [
        "---\n",
        "### **(2) 배열 추가**\n",
        "---\n",
        "\n",
        "\n",
        "\n",
        "\n"
      ]
    },
    {
      "cell_type": "markdown",
      "source": [
        "#### **1. `append()`**\n",
        "\n",
        "\n",
        "\n",
        "<p align='center'>\n",
        "<img src=https://www.mybluelinux.com/img/post/posts/0123/NumPy-Illustrated-39.webp width=650>\n",
        "</p>\n",
        "\n",
        "\n",
        "`axis` 지정이 없다면 1차원 배열 형태로 변형되어 결합합니다. `axis`를 n으로 지정시 `shape[n]`을 제외한 나머지 shape는 같아야 합니다.\n",
        "\n",
        "```\n",
        "배열3 = np.append(배열1, 배열2)\n",
        "```\n",
        "\n",
        "\n",
        "\n",
        "\n"
      ],
      "metadata": {
        "id": "J33RO4riW57H"
      }
    },
    {
      "cell_type": "code",
      "source": [
        "a = np.arange(1,16).reshape(3,5)\n",
        "print(a, a.shape)\n",
        "b = np.ones(5).reshape(1,5)\n",
        "print(b, b.shape)\n",
        "c = np.append(a, b, axis=0)\n",
        "print(c, c.shape)"
      ],
      "metadata": {
        "id": "FUEgO4nPnqjW",
        "colab": {
          "base_uri": "https://localhost:8080/"
        },
        "outputId": "a9211027-4967-4d8e-ab60-8f72a951b89f"
      },
      "execution_count": 51,
      "outputs": [
        {
          "output_type": "stream",
          "name": "stdout",
          "text": [
            "[[ 1  2  3  4  5]\n",
            " [ 6  7  8  9 10]\n",
            " [11 12 13 14 15]] (3, 5)\n",
            "[[1. 1. 1. 1. 1.]] (1, 5)\n",
            "[[ 1.  2.  3.  4.  5.]\n",
            " [ 6.  7.  8.  9. 10.]\n",
            " [11. 12. 13. 14. 15.]\n",
            " [ 1.  1.  1.  1.  1.]] (4, 5)\n"
          ]
        }
      ]
    },
    {
      "cell_type": "code",
      "source": [
        "a = np.arange(1,16).reshape(3,5)\n",
        "print(a, a.shape)\n",
        "b = np.zeros((3,2))\n",
        "print(b, b.shape)\n",
        "c = np.append(a, b, axis=1)\n",
        "print(c, c.shape)"
      ],
      "metadata": {
        "id": "QfuFQZNccOuV",
        "colab": {
          "base_uri": "https://localhost:8080/"
        },
        "outputId": "3873ddb4-8ed9-4636-e8a8-bbd3a663436e"
      },
      "execution_count": 53,
      "outputs": [
        {
          "output_type": "stream",
          "name": "stdout",
          "text": [
            "[[ 1  2  3  4  5]\n",
            " [ 6  7  8  9 10]\n",
            " [11 12 13 14 15]] (3, 5)\n",
            "[[0. 0.]\n",
            " [0. 0.]\n",
            " [0. 0.]] (3, 2)\n",
            "[[ 1.  2.  3.  4.  5.  0.  0.]\n",
            " [ 6.  7.  8.  9. 10.  0.  0.]\n",
            " [11. 12. 13. 14. 15.  0.  0.]] (3, 7)\n"
          ]
        }
      ]
    },
    {
      "cell_type": "markdown",
      "source": [
        "#### **2. `concatenate()`**\n",
        "\n",
        "<p align='center'>\n",
        "<img src=https://www.mybluelinux.com/img/post/posts/0123/NumPy-Illustrated-56.webp width=650>\n",
        "</p>\n",
        "\n",
        "```\n",
        "배열3 = np.concatenate([배열1, 배열2], axis=기준축)\n",
        "```\n",
        "\n",
        "\n"
      ],
      "metadata": {
        "id": "CnpEG0zsWj8L"
      }
    },
    {
      "cell_type": "code",
      "source": [
        "a = np.arange(1, 25).reshape(2,3,4)\n",
        "print(\"a\\n\",a, a.shape)\n",
        "b = np.arange(1, 17).reshape(2,2,4)\n",
        "print(\"b\\n\",b, b.shape)\n",
        "c = np.arange(1, 13).reshape(2,3,2)\n",
        "print(\"c\\n\",c, c.shape)\n",
        "d = np.arange(1, 25).reshape(2,3,4)\n",
        "print(\"d\\n\",d, d.shape)"
      ],
      "metadata": {
        "id": "UMTyAjH3cSMN",
        "colab": {
          "base_uri": "https://localhost:8080/"
        },
        "outputId": "1af20b8c-9249-4ec5-d2dd-505b6bfef103"
      },
      "execution_count": 56,
      "outputs": [
        {
          "output_type": "stream",
          "name": "stdout",
          "text": [
            "a\n",
            " [[[ 1  2  3  4]\n",
            "  [ 5  6  7  8]\n",
            "  [ 9 10 11 12]]\n",
            "\n",
            " [[13 14 15 16]\n",
            "  [17 18 19 20]\n",
            "  [21 22 23 24]]] (2, 3, 4)\n",
            "b\n",
            " [[[ 1  2  3  4]\n",
            "  [ 5  6  7  8]]\n",
            "\n",
            " [[ 9 10 11 12]\n",
            "  [13 14 15 16]]] (2, 2, 4)\n",
            "c\n",
            " [[[ 1  2]\n",
            "  [ 3  4]\n",
            "  [ 5  6]]\n",
            "\n",
            " [[ 7  8]\n",
            "  [ 9 10]\n",
            "  [11 12]]] (2, 3, 2)\n",
            "d\n",
            " [[[ 1  2  3  4]\n",
            "  [ 5  6  7  8]\n",
            "  [ 9 10 11 12]]\n",
            "\n",
            " [[13 14 15 16]\n",
            "  [17 18 19 20]\n",
            "  [21 22 23 24]]] (2, 3, 4)\n"
          ]
        }
      ]
    },
    {
      "cell_type": "code",
      "source": [
        "new_arr = np.concatenate([a, b], axis=1)\n",
        "print(new_arr, new_arr.shape)"
      ],
      "metadata": {
        "id": "XSsX-Jirzvz1",
        "colab": {
          "base_uri": "https://localhost:8080/"
        },
        "outputId": "83f9844d-8840-4bc5-939f-a189edb61232"
      },
      "execution_count": 57,
      "outputs": [
        {
          "output_type": "stream",
          "name": "stdout",
          "text": [
            "[[[ 1  2  3  4]\n",
            "  [ 5  6  7  8]\n",
            "  [ 9 10 11 12]\n",
            "  [ 1  2  3  4]\n",
            "  [ 5  6  7  8]]\n",
            "\n",
            " [[13 14 15 16]\n",
            "  [17 18 19 20]\n",
            "  [21 22 23 24]\n",
            "  [ 9 10 11 12]\n",
            "  [13 14 15 16]]] (2, 5, 4)\n"
          ]
        }
      ]
    },
    {
      "cell_type": "code",
      "source": [
        "new_arr = np.concatenate([a, d], axis=0)\n",
        "print(new_arr, new_arr.shape)"
      ],
      "metadata": {
        "id": "szj4UXxHrKXh",
        "colab": {
          "base_uri": "https://localhost:8080/"
        },
        "outputId": "89b55d3d-a7b1-4691-f880-8b617dfd637e"
      },
      "execution_count": 59,
      "outputs": [
        {
          "output_type": "stream",
          "name": "stdout",
          "text": [
            "[[[ 1  2  3  4  1  2  3  4]\n",
            "  [ 5  6  7  8  5  6  7  8]\n",
            "  [ 9 10 11 12  9 10 11 12]]\n",
            "\n",
            " [[13 14 15 16 13 14 15 16]\n",
            "  [17 18 19 20 17 18 19 20]\n",
            "  [21 22 23 24 21 22 23 24]]] (2, 3, 8)\n"
          ]
        }
      ]
    },
    {
      "cell_type": "code",
      "source": [
        "new_arr = np.concatenate([a, c, a], axis=2)\n",
        "print(new_arr, new_arr.shape)"
      ],
      "metadata": {
        "id": "X0HDXZjRcNHV",
        "colab": {
          "base_uri": "https://localhost:8080/"
        },
        "outputId": "5b1c9fb7-713c-40f9-fa88-e7d3f3d60eb9"
      },
      "execution_count": 61,
      "outputs": [
        {
          "output_type": "stream",
          "name": "stdout",
          "text": [
            "[[[ 1  2  3  4  1  2  1  2  3  4]\n",
            "  [ 5  6  7  8  3  4  5  6  7  8]\n",
            "  [ 9 10 11 12  5  6  9 10 11 12]]\n",
            "\n",
            " [[13 14 15 16  7  8 13 14 15 16]\n",
            "  [17 18 19 20  9 10 17 18 19 20]\n",
            "  [21 22 23 24 11 12 21 22 23 24]]] (2, 3, 10)\n"
          ]
        }
      ]
    },
    {
      "cell_type": "markdown",
      "source": [
        "---\n",
        "### **(3) 배열 쌓기**\n",
        "---\n",
        "\n",
        "<p align='center'>\n",
        "<img src=https://www.mybluelinux.com/img/post/posts/0123/NumPy-Illustrated-55.webp width=600>\n",
        "</p>\n",
        "\n",
        "\n"
      ],
      "metadata": {
        "id": "wizWWnrRXPkz"
      }
    },
    {
      "cell_type": "code",
      "source": [
        "a = np.arange(1, 25).reshape(3,4,2)\n",
        "print(\"a\\n\",a, a.shape)\n",
        "b = np.arange(1, 17).reshape(2,4,2)\n",
        "print(\"b\\n\",b, b.shape)\n",
        "c = np.arange(1, 13).reshape(3,2,2)\n",
        "print(\"c\\n\",c, c.shape)\n",
        "d = np.arange(1, 25).reshape(3,4,2)\n",
        "print(\"d\\n\",d, d.shape)"
      ],
      "metadata": {
        "colab": {
          "base_uri": "https://localhost:8080/"
        },
        "id": "zshqY6N0S4nM",
        "outputId": "ae28b62c-b067-43d7-e1f6-7dbd5525ab8a"
      },
      "execution_count": 64,
      "outputs": [
        {
          "output_type": "stream",
          "name": "stdout",
          "text": [
            "a\n",
            " [[[ 1  2]\n",
            "  [ 3  4]\n",
            "  [ 5  6]\n",
            "  [ 7  8]]\n",
            "\n",
            " [[ 9 10]\n",
            "  [11 12]\n",
            "  [13 14]\n",
            "  [15 16]]\n",
            "\n",
            " [[17 18]\n",
            "  [19 20]\n",
            "  [21 22]\n",
            "  [23 24]]] (3, 4, 2)\n",
            "b\n",
            " [[[ 1  2]\n",
            "  [ 3  4]\n",
            "  [ 5  6]\n",
            "  [ 7  8]]\n",
            "\n",
            " [[ 9 10]\n",
            "  [11 12]\n",
            "  [13 14]\n",
            "  [15 16]]] (2, 4, 2)\n",
            "c\n",
            " [[[ 1  2]\n",
            "  [ 3  4]]\n",
            "\n",
            " [[ 5  6]\n",
            "  [ 7  8]]\n",
            "\n",
            " [[ 9 10]\n",
            "  [11 12]]] (3, 2, 2)\n",
            "d\n",
            " [[[ 1  2]\n",
            "  [ 3  4]\n",
            "  [ 5  6]\n",
            "  [ 7  8]]\n",
            "\n",
            " [[ 9 10]\n",
            "  [11 12]\n",
            "  [13 14]\n",
            "  [15 16]]\n",
            "\n",
            " [[17 18]\n",
            "  [19 20]\n",
            "  [21 22]\n",
            "  [23 24]]] (3, 4, 2)\n"
          ]
        }
      ]
    },
    {
      "cell_type": "markdown",
      "source": [
        "####**1. `hstack()`**\n",
        "\n",
        "수평으로 배열을 쌓습니다.\n",
        "(axis=1)\n",
        "\n",
        "```\n",
        "배열3 = np.hstack([배열1, 배열2])\n",
        "```\n"
      ],
      "metadata": {
        "id": "4Nnsj29gczKu"
      }
    },
    {
      "cell_type": "code",
      "metadata": {
        "id": "8DISsqfGXPk_",
        "colab": {
          "base_uri": "https://localhost:8080/"
        },
        "outputId": "c7485cb4-9328-4a66-9df8-0fec41005549"
      },
      "source": [
        "new_arr = np.hstack([a, c])\n",
        "print(a.shape, c.shape)\n",
        "print(new_arr, new_arr.shape)"
      ],
      "execution_count": 66,
      "outputs": [
        {
          "output_type": "stream",
          "name": "stdout",
          "text": [
            "(3, 4, 2) (3, 2, 2)\n",
            "[[[ 1  2]\n",
            "  [ 3  4]\n",
            "  [ 5  6]\n",
            "  [ 7  8]\n",
            "  [ 1  2]\n",
            "  [ 3  4]]\n",
            "\n",
            " [[ 9 10]\n",
            "  [11 12]\n",
            "  [13 14]\n",
            "  [15 16]\n",
            "  [ 5  6]\n",
            "  [ 7  8]]\n",
            "\n",
            " [[17 18]\n",
            "  [19 20]\n",
            "  [21 22]\n",
            "  [23 24]\n",
            "  [ 9 10]\n",
            "  [11 12]]] (3, 6, 2)\n"
          ]
        }
      ]
    },
    {
      "cell_type": "markdown",
      "source": [
        "####**2. `vstack()`**\n",
        "\n",
        "수직으로 배열을 쌓습니다. (aixs=0)\n",
        "\n",
        "```\n",
        "배열3 = np.vstack([배열1, 배열2])\n",
        "```\n"
      ],
      "metadata": {
        "id": "im28lYvTc306"
      }
    },
    {
      "cell_type": "code",
      "metadata": {
        "id": "0gQ-ju--c307",
        "colab": {
          "base_uri": "https://localhost:8080/"
        },
        "outputId": "b166d419-f5cb-4d6b-c999-3f60df636467"
      },
      "source": [
        "new_arr = np.vstack([a,b])\n",
        "print(a.shape, b.shape)\n",
        "print(new_arr, new_arr.shape)"
      ],
      "execution_count": 67,
      "outputs": [
        {
          "output_type": "stream",
          "name": "stdout",
          "text": [
            "(3, 4, 2) (2, 4, 2)\n",
            "[[[ 1  2]\n",
            "  [ 3  4]\n",
            "  [ 5  6]\n",
            "  [ 7  8]]\n",
            "\n",
            " [[ 9 10]\n",
            "  [11 12]\n",
            "  [13 14]\n",
            "  [15 16]]\n",
            "\n",
            " [[17 18]\n",
            "  [19 20]\n",
            "  [21 22]\n",
            "  [23 24]]\n",
            "\n",
            " [[ 1  2]\n",
            "  [ 3  4]\n",
            "  [ 5  6]\n",
            "  [ 7  8]]\n",
            "\n",
            " [[ 9 10]\n",
            "  [11 12]\n",
            "  [13 14]\n",
            "  [15 16]]] (5, 4, 2)\n"
          ]
        }
      ]
    },
    {
      "cell_type": "markdown",
      "source": [
        "####**3. `dstack()`**\n",
        "\n",
        "새로운 축으로 배열을 쌓습니다. (axis=2)\n",
        "\n",
        "```\n",
        "배열3 = np.dstack([배열1, 배열2])\n",
        "```\n"
      ],
      "metadata": {
        "id": "0kzguX5Wc4Iu"
      }
    },
    {
      "cell_type": "code",
      "metadata": {
        "id": "ebTRQIYlXTqB",
        "colab": {
          "base_uri": "https://localhost:8080/"
        },
        "outputId": "bb929111-a1a5-400d-87e5-d627552b2c55"
      },
      "source": [
        "a0 = np.zeros( (3,2) )\n",
        "a1 = np.ones( (3,2) )\n",
        "\n",
        "new_arr = np.dstack([a0,a1])\n",
        "print(a0.shape, a1.shape)\n",
        "print(new_arr, new_arr.shape)"
      ],
      "execution_count": 71,
      "outputs": [
        {
          "output_type": "stream",
          "name": "stdout",
          "text": [
            "(3, 2) (3, 2)\n",
            "[[[0. 1.]\n",
            "  [0. 1.]]\n",
            "\n",
            " [[0. 1.]\n",
            "  [0. 1.]]\n",
            "\n",
            " [[0. 1.]\n",
            "  [0. 1.]]] (3, 2, 2)\n"
          ]
        }
      ]
    },
    {
      "cell_type": "markdown",
      "source": [
        "####**4. `stack()`**\n",
        "\n",
        "새로운 축으로 배열을 쌓습니다.\n",
        "```\n",
        "배열3 = np.stack([배열1, 배열2])\n",
        "```"
      ],
      "metadata": {
        "id": "fcjH8F0oXVrZ"
      }
    },
    {
      "cell_type": "code",
      "metadata": {
        "id": "AkS_tgPXXVra",
        "colab": {
          "base_uri": "https://localhost:8080/"
        },
        "outputId": "f54d5d0c-e151-4294-810b-82ab685a62ff"
      },
      "source": [
        "a0 = np.zeros( (3,2) )\n",
        "a1 = np.ones( (3,2) )\n",
        "\n",
        "new_arr = np.stack([a0,a1])\n",
        "print(a0.shape, a1.shape)\n",
        "print(new_arr, new_arr.shape)"
      ],
      "execution_count": 72,
      "outputs": [
        {
          "output_type": "stream",
          "name": "stdout",
          "text": [
            "(3, 2) (3, 2)\n",
            "[[[0. 0.]\n",
            "  [0. 0.]\n",
            "  [0. 0.]]\n",
            "\n",
            " [[1. 1.]\n",
            "  [1. 1.]\n",
            "  [1. 1.]]] (2, 3, 2)\n"
          ]
        }
      ]
    },
    {
      "cell_type": "markdown",
      "metadata": {
        "id": "yqFHh_pLXZ48"
      },
      "source": [
        "---\n",
        "### **(4) 배열 분할**\n",
        "---\n",
        "\n",
        "<p align='center'>\n",
        "<img src=https://www.mybluelinux.com/img/post/posts/0123/NumPy-Illustrated-35.webp  width=650>\n",
        "</p>\n",
        "\n"
      ]
    },
    {
      "cell_type": "code",
      "source": [
        "a = np.arange(1, 13).reshape(3,4)\n",
        "b = np.arange(1, 9).reshape(2,4)\n",
        "c = np.arange(1, 7).reshape(3,2)\n",
        "print(a.shape, b.shape, c.shape)"
      ],
      "metadata": {
        "colab": {
          "base_uri": "https://localhost:8080/"
        },
        "id": "KQggGeOyV94z",
        "outputId": "986210cd-a0c1-4674-9873-ab84d66e9566"
      },
      "execution_count": 73,
      "outputs": [
        {
          "output_type": "stream",
          "name": "stdout",
          "text": [
            "(3, 4) (2, 4) (3, 2)\n"
          ]
        }
      ]
    },
    {
      "cell_type": "markdown",
      "source": [
        "#### **1. `split()`**\n",
        "\n",
        "\n",
        "```\n",
        "배열n1, .. 배열nm = np.split(배열, [n1, .. nm], axis=축)\n",
        "```\n",
        "\n",
        "\n",
        "\n",
        "\n",
        "\n",
        "\n",
        "\n",
        "\n"
      ],
      "metadata": {
        "id": "2507CgLOXZ48"
      }
    },
    {
      "cell_type": "code",
      "source": [
        ""
      ],
      "metadata": {
        "id": "ccyVFLxK-ff7"
      },
      "execution_count": null,
      "outputs": []
    },
    {
      "cell_type": "markdown",
      "source": [
        "#### **2. `vsplit()`**\n",
        "\n",
        "수직 방향으로 배열을 분할합니다.\n",
        "\n",
        "```\n",
        "배열n1, .. 배열nm = np.vsplit(배열, [n1, .. nm]\n",
        "```\n",
        "\n",
        "\n"
      ],
      "metadata": {
        "id": "8NLnMkgTXZ49"
      }
    },
    {
      "cell_type": "code",
      "metadata": {
        "id": "5M2FDUYbXZ49",
        "colab": {
          "base_uri": "https://localhost:8080/"
        },
        "outputId": "d9d0cd19-1314-4a11-abb9-61bd4209f466"
      },
      "source": [
        "print(a.shape, b.shape)\n",
        "new_arr = np.vstack((a,b))\n",
        "print(new_arr, new_arr.shape)\n",
        "new_arr0, new_arr1, new_arr2 = np.vsplit(new_arr, [3,4])\n",
        "print(new_arr0)\n",
        "print(new_arr1)\n",
        "print(new_arr2)"
      ],
      "execution_count": 80,
      "outputs": [
        {
          "output_type": "stream",
          "name": "stdout",
          "text": [
            "(3, 4) (2, 4)\n",
            "[[ 1  2  3  4]\n",
            " [ 5  6  7  8]\n",
            " [ 9 10 11 12]\n",
            " [ 1  2  3  4]\n",
            " [ 5  6  7  8]] (5, 4)\n",
            "[[ 1  2  3  4]\n",
            " [ 5  6  7  8]\n",
            " [ 9 10 11 12]]\n",
            "[[1 2 3 4]]\n",
            "[[5 6 7 8]]\n"
          ]
        }
      ]
    },
    {
      "cell_type": "markdown",
      "source": [
        "#### **3. `hsplit()`**\n",
        "\n",
        "수평방향으로 축을 분할합니다.\n",
        "\n",
        "```\n",
        "배열n1, .. 배열nm = np.hsplit(배열, [n1, .. nm]\n",
        "```"
      ],
      "metadata": {
        "id": "FPMCeMiCXZ4-"
      }
    },
    {
      "cell_type": "code",
      "metadata": {
        "id": "w03937UA9bLx",
        "colab": {
          "base_uri": "https://localhost:8080/"
        },
        "outputId": "b4546844-fb46-4546-a478-063d527188af"
      },
      "source": [
        "print(a.shape, c.shape)\n",
        "new_arr = np.hstack((a,c))\n",
        "print(new_arr, new_arr.shape)\n",
        "new_arr0, new_arr1= np.hsplit(new_arr, [4])\n",
        "print(new_arr0)\n",
        "print(new_arr1)\n",
        "#print(new_arr2)"
      ],
      "execution_count": 82,
      "outputs": [
        {
          "output_type": "stream",
          "name": "stdout",
          "text": [
            "(3, 4) (3, 2)\n",
            "[[ 1  2  3  4  1  2]\n",
            " [ 5  6  7  8  3  4]\n",
            " [ 9 10 11 12  5  6]] (3, 6)\n",
            "[[ 1  2  3  4]\n",
            " [ 5  6  7  8]\n",
            " [ 9 10 11 12]]\n",
            "[[1 2]\n",
            " [3 4]\n",
            " [5 6]]\n"
          ]
        }
      ]
    },
    {
      "cell_type": "markdown",
      "metadata": {
        "id": "Iflmv_G4M7Qs"
      },
      "source": [
        "## 예제\n",
        "---"
      ]
    },
    {
      "cell_type": "markdown",
      "metadata": {
        "id": "d9o7kBXoNlE3"
      },
      "source": [
        "####**예제 01**\n",
        "\n",
        "모든 요소가 1이고 `(3,3,2)` shape를 가지는 3차원 배열을 생성하고 출력 및 shape를 확인하세요"
      ]
    },
    {
      "cell_type": "code",
      "metadata": {
        "id": "Gwir0bafNlE9"
      },
      "source": [
        ""
      ],
      "execution_count": null,
      "outputs": []
    },
    {
      "cell_type": "markdown",
      "source": [
        "**01-1**\n",
        "\n",
        "shape가 `(3,6)`인 2차원 배열로 변경하고 배열 출력 및 shape를 확인하세요 "
      ],
      "metadata": {
        "id": "SACkvDRySMNc"
      }
    },
    {
      "cell_type": "code",
      "source": [
        ""
      ],
      "metadata": {
        "id": "YJVWViH7SMNc"
      },
      "execution_count": null,
      "outputs": []
    },
    {
      "cell_type": "markdown",
      "source": [
        "**01-2**\n",
        "\n",
        "배열을 transpose 하고 배열 출력 및 shape를 확인하세요"
      ],
      "metadata": {
        "id": "cTtCSNxFmxsL"
      }
    },
    {
      "cell_type": "code",
      "source": [
        ""
      ],
      "metadata": {
        "id": "X2FslwXL_hSE"
      },
      "execution_count": null,
      "outputs": []
    },
    {
      "cell_type": "markdown",
      "source": [
        "**01-3**\n",
        "\n",
        "shape를 늘려 `(3,8)`인 2차원 배열로 변경하고  배열 출력 및 shape를 확인하세요 "
      ],
      "metadata": {
        "id": "nKLke2__XUlc"
      }
    },
    {
      "cell_type": "code",
      "source": [
        ""
      ],
      "metadata": {
        "id": "ZpgAgpL_XUln"
      },
      "execution_count": null,
      "outputs": []
    },
    {
      "cell_type": "markdown",
      "source": [
        "**01-4**\n",
        "\n",
        "shape가 `(1,3,8)`인 3차원 배열로 변경하고  배열 출력 및 shape를 확인하세요 "
      ],
      "metadata": {
        "id": "R8o5gYtyXgNs"
      }
    },
    {
      "cell_type": "code",
      "source": [
        ""
      ],
      "metadata": {
        "id": "3E5DjaJJXgNt"
      },
      "execution_count": null,
      "outputs": []
    },
    {
      "cell_type": "markdown",
      "metadata": {
        "id": "G7NVMtnXXl40"
      },
      "source": [
        "####**예제 02**\n",
        "\n",
        "아래 표와 같은 2차원 배열을 생성하세요\n",
        "\n",
        "* 배열1\n",
        "\n",
        "|||\n",
        "|--|--|\n",
        "|0|1|\n",
        "|2|3|\n",
        "|4|5|\n",
        "\n",
        "* 배열2\n",
        "\n",
        "|||\n",
        "|--|--|\n",
        "|6|7|\n",
        "|8|9|\n",
        "|10|11|\n",
        "\n",
        "* 배열3\n",
        "\n",
        "|||\n",
        "|--|--|\n",
        "|12|13|\n",
        "|14|15|\n",
        "|16|17|"
      ]
    },
    {
      "cell_type": "code",
      "metadata": {
        "id": "v5NNZzWHXl40"
      },
      "source": [
        ""
      ],
      "execution_count": null,
      "outputs": []
    },
    {
      "cell_type": "markdown",
      "source": [
        "**02-1**\n",
        "\n",
        "위에서 생성한 배열1과 배열2 합쳐 shape가 `(3,2,2)` 인 배열을 만드세요"
      ],
      "metadata": {
        "id": "6whR9VwAYZ4G"
      }
    },
    {
      "cell_type": "code",
      "source": [
        ""
      ],
      "metadata": {
        "id": "MLveMkxzYZ4G"
      },
      "execution_count": null,
      "outputs": []
    },
    {
      "cell_type": "markdown",
      "source": [
        "**02-2**\n",
        "\n",
        "위에서 생성한 배열1과 배열2 합쳐 shape가 `(2,3,2)` 인 배열을 만드세요"
      ],
      "metadata": {
        "id": "9u_P0i8VYmIg"
      }
    },
    {
      "cell_type": "code",
      "source": [
        ""
      ],
      "metadata": {
        "id": "l_kU8G1hYmIh"
      },
      "execution_count": null,
      "outputs": []
    },
    {
      "cell_type": "markdown",
      "source": [
        "**02-3**\n",
        "\n",
        "위에서 생성한 배열1, 배열2, 배열3을 합쳐 shape가 `(2,3,3)` 인 배열을 만드세요"
      ],
      "metadata": {
        "id": "Ricc7018Yotg"
      }
    },
    {
      "cell_type": "code",
      "source": [
        ""
      ],
      "metadata": {
        "id": "ciw22VsCYotg"
      },
      "execution_count": null,
      "outputs": []
    },
    {
      "cell_type": "markdown",
      "source": [
        "**02-4**\n",
        "\n",
        "**02-2**에서 만든 배열을 `axis=1`을 기준으로 총 3개의 배열로 나누세요"
      ],
      "metadata": {
        "id": "eW1GNomvYyw8"
      }
    },
    {
      "cell_type": "code",
      "source": [
        ""
      ],
      "metadata": {
        "id": "1jkXdrfoYyw8"
      },
      "execution_count": null,
      "outputs": []
    },
    {
      "cell_type": "markdown",
      "source": [
        "####**예제 03**\n",
        "\n",
        "아래 그림을 차례대로 만족하는 코드를 작성하세요\n",
        "\n",
        "<p align='center'>\n",
        "<img src=https://codetorial.net/numpy/_images/numpy_transpose_02.png width=400>\n",
        "</p>"
      ],
      "metadata": {
        "id": "mtnrRAfiRSsZ"
      }
    },
    {
      "cell_type": "code",
      "source": [
        ""
      ],
      "metadata": {
        "id": "CKT2UkrIXjMO"
      },
      "execution_count": null,
      "outputs": []
    },
    {
      "cell_type": "markdown",
      "metadata": {
        "id": "y6MXM4bwQRHf"
      },
      "source": [
        "####**예제 04**\n",
        "\n",
        "아래 그림을 차례대로 만족하는 코드를 작성하세요\n",
        "\n",
        "\n",
        "<p align=\"center\">\n",
        "<img src=https://www.w3resource.com/w3r_images/python-numpy-image-exercise-150.svg width=\"200\">\n",
        "</p>"
      ]
    },
    {
      "cell_type": "code",
      "metadata": {
        "id": "Q3DiVbMKQRHh"
      },
      "source": [
        ""
      ],
      "execution_count": null,
      "outputs": []
    },
    {
      "cell_type": "markdown",
      "metadata": {
        "id": "7A3h9vPqRAuh"
      },
      "source": [
        "####**예제 05**\n",
        "\n",
        "아래 그림을 차례대로 만족하는 코드를 작성하세요\n",
        "\n",
        "\n",
        "<p align=\"center\">\n",
        "<img src=https://blog.kakaocdn.net/dn/Kv3wG/btqHjprfZmj/AovG4uJwyTKWPUJkOkIGK1/img.png width=\"450\">\n",
        "</p>"
      ]
    },
    {
      "cell_type": "code",
      "metadata": {
        "id": "EjHswZepRAuh"
      },
      "source": [
        ""
      ],
      "execution_count": null,
      "outputs": []
    },
    {
      "cell_type": "markdown",
      "metadata": {
        "id": "O-AZHlQMQ5jI"
      },
      "source": [
        "####**예제 06**\n",
        "아래 그림을 차례대로 만족하는 코드를 작성하세요\n",
        "\n",
        "\n",
        "<p align=\"center\">\n",
        "<img src=https://blog.kakaocdn.net/dn/HIXPd/btqHbZtp0tx/31CVtA3pFnjHYhrEwCra3K/img.png width=\"450\">\n",
        "</p>"
      ]
    },
    {
      "cell_type": "code",
      "metadata": {
        "id": "-Y2ZsVFdQ5jJ"
      },
      "source": [
        ""
      ],
      "execution_count": null,
      "outputs": []
    },
    {
      "cell_type": "markdown",
      "metadata": {
        "id": "dAc67rCtUMdH"
      },
      "source": [
        "####**예제 07**\n",
        "아래 그림을 차례대로 만족하는 코드를 작성하세요\n",
        "\n",
        "\n",
        "<p align=\"center\">\n",
        "<img src=https://blog.kakaocdn.net/dn/egRNlA/btqHgqxlRKn/nklzYhNUqjOB8wf2edXiAk/img.png width=\"450\">\n",
        "</p>"
      ]
    },
    {
      "cell_type": "code",
      "metadata": {
        "id": "hQRgmmV4UMdJ"
      },
      "source": [
        ""
      ],
      "execution_count": null,
      "outputs": []
    },
    {
      "cell_type": "markdown",
      "metadata": {
        "id": "fy2uHMGuYglS"
      },
      "source": [
        "####**예제 08**\n",
        "아래 그림을 차례대로 만족하는 코드를 작성하세요\n",
        "\n",
        "\n",
        "<p align=\"center\">\n",
        "<img src=https://www.w3resource.com/w3r_images/numpy-manipulation-stack-function-image-1.png width=\"150\">\n",
        "</p>"
      ]
    },
    {
      "cell_type": "code",
      "metadata": {
        "id": "rC--XWzjYglX"
      },
      "source": [
        ""
      ],
      "execution_count": null,
      "outputs": []
    },
    {
      "cell_type": "markdown",
      "metadata": {
        "id": "jx_t_a6dYl22"
      },
      "source": [
        "####**예제 09**\n",
        "아래 그림을 차례대로 만족하는 코드를 작성하세요\n",
        "\n",
        "\n",
        "<p align=\"center\">\n",
        "<img src=https://www.w3resource.com/w3r_images/numpy-manipulation-stack-function-image-2.png width=\"150\">\n",
        "</p>"
      ]
    },
    {
      "cell_type": "code",
      "metadata": {
        "id": "xZYEuN8hYl22"
      },
      "source": [
        ""
      ],
      "execution_count": null,
      "outputs": []
    }
  ]
}